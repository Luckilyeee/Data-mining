{
 "cells": [
  {
   "cell_type": "markdown",
   "metadata": {},
   "source": [
    "# import library"
   ]
  },
  {
   "cell_type": "code",
   "execution_count": 1,
   "metadata": {},
   "outputs": [],
   "source": [
    "import pandas as pd\n",
    "pd.set_option('display.max_colwidth', -1)\n",
    "import numpy as np\n",
    "import seaborn as sns\n",
    "import matplotlib.pyplot as plt\n",
    "\n",
    "\n",
    "import nltk\n",
    "from nltk.corpus import stopwords\n",
    "from nltk.stem import WordNetLemmatizer\n",
    "import re\n",
    "import string\n",
    "\n",
    "from sklearn.model_selection import train_test_split\n",
    "from sklearn.metrics import classification_report\n",
    "from sklearn.feature_extraction.text import TfidfVectorizer\n",
    "from sklearn.feature_extraction.text import CountVectorizer\n",
    "from sklearn.pipeline import Pipeline\n",
    "\n",
    "from sklearn.linear_model import SGDClassifier\n",
    "from sklearn.naive_bayes import MultinomialNB\n",
    "from sklearn.linear_model import LogisticRegression\n",
    "import xgboost as xgb\n",
    "from xgboost import XGBClassifier\n",
    "\n",
    "import warnings\n",
    "warnings.filterwarnings('ignore')"
   ]
  },
  {
   "cell_type": "code",
   "execution_count": 2,
   "metadata": {},
   "outputs": [],
   "source": [
    "traindata = pd.read_csv(\"train.csv\")\n",
    "testdata = pd.read_csv(\"test.csv\")\n",
    "submissiondata = pd.read_csv(\"sample_submission.csv\") "
   ]
  },
  {
   "cell_type": "code",
   "execution_count": 3,
   "metadata": {},
   "outputs": [
    {
     "data": {
      "text/html": [
       "<div>\n",
       "<style scoped>\n",
       "    .dataframe tbody tr th:only-of-type {\n",
       "        vertical-align: middle;\n",
       "    }\n",
       "\n",
       "    .dataframe tbody tr th {\n",
       "        vertical-align: top;\n",
       "    }\n",
       "\n",
       "    .dataframe thead th {\n",
       "        text-align: right;\n",
       "    }\n",
       "</style>\n",
       "<table border=\"1\" class=\"dataframe\">\n",
       "  <thead>\n",
       "    <tr style=\"text-align: right;\">\n",
       "      <th></th>\n",
       "      <th>id</th>\n",
       "      <th>keyword</th>\n",
       "      <th>location</th>\n",
       "      <th>text</th>\n",
       "      <th>target</th>\n",
       "    </tr>\n",
       "  </thead>\n",
       "  <tbody>\n",
       "    <tr>\n",
       "      <td>0</td>\n",
       "      <td>1</td>\n",
       "      <td>NaN</td>\n",
       "      <td>NaN</td>\n",
       "      <td>our deeds are the reason of this earthquake may allah forgive us all</td>\n",
       "      <td>1</td>\n",
       "    </tr>\n",
       "    <tr>\n",
       "      <td>1</td>\n",
       "      <td>4</td>\n",
       "      <td>NaN</td>\n",
       "      <td>NaN</td>\n",
       "      <td>forest fire near la ronge sask canada</td>\n",
       "      <td>1</td>\n",
       "    </tr>\n",
       "    <tr>\n",
       "      <td>2</td>\n",
       "      <td>5</td>\n",
       "      <td>NaN</td>\n",
       "      <td>NaN</td>\n",
       "      <td>all residents asked to shelter in place are being notified by officers no other evacuation or shelter in place orders are expected</td>\n",
       "      <td>1</td>\n",
       "    </tr>\n",
       "    <tr>\n",
       "      <td>3</td>\n",
       "      <td>6</td>\n",
       "      <td>NaN</td>\n",
       "      <td>NaN</td>\n",
       "      <td>13000 people receive wildfires evacuation orders in california</td>\n",
       "      <td>1</td>\n",
       "    </tr>\n",
       "    <tr>\n",
       "      <td>4</td>\n",
       "      <td>7</td>\n",
       "      <td>NaN</td>\n",
       "      <td>NaN</td>\n",
       "      <td>just got sent this photo from ruby alaska as smoke from wildfires pours into a school</td>\n",
       "      <td>1</td>\n",
       "    </tr>\n",
       "  </tbody>\n",
       "</table>\n",
       "</div>"
      ],
      "text/plain": [
       "   id keyword location  \\\n",
       "0  1   NaN     NaN       \n",
       "1  4   NaN     NaN       \n",
       "2  5   NaN     NaN       \n",
       "3  6   NaN     NaN       \n",
       "4  7   NaN     NaN       \n",
       "\n",
       "                                                                                                                                 text  \\\n",
       "0  our deeds are the reason of this earthquake may allah forgive us all                                                                 \n",
       "1  forest fire near la ronge sask canada                                                                                                \n",
       "2  all residents asked to shelter in place are being notified by officers no other evacuation or shelter in place orders are expected   \n",
       "3  13000 people receive wildfires evacuation orders in california                                                                       \n",
       "4  just got sent this photo from ruby alaska as smoke from wildfires pours into a school                                                \n",
       "\n",
       "   target  \n",
       "0  1       \n",
       "1  1       \n",
       "2  1       \n",
       "3  1       \n",
       "4  1       "
      ]
     },
     "execution_count": 3,
     "metadata": {},
     "output_type": "execute_result"
    }
   ],
   "source": [
    "# remove puctunations, https\n",
    "def  clean_text(df, text_field):\n",
    "    df[text_field] = df[text_field].str.lower()\n",
    "    df[text_field] = df[text_field].apply(lambda elem: re.sub(r\"(@[A-Za-z0-9]+)|([^0-9A-Za-z \\t])|(\\w+:\\/\\/\\S+)|^rt|http.+?\", \"\", elem))  \n",
    "    return df\n",
    "data_clean = clean_text(traindata, \"text\")\n",
    "data_clean.head()"
   ]
  },
  {
   "cell_type": "code",
   "execution_count": 4,
   "metadata": {},
   "outputs": [
    {
     "data": {
      "text/html": [
       "<div>\n",
       "<style scoped>\n",
       "    .dataframe tbody tr th:only-of-type {\n",
       "        vertical-align: middle;\n",
       "    }\n",
       "\n",
       "    .dataframe tbody tr th {\n",
       "        vertical-align: top;\n",
       "    }\n",
       "\n",
       "    .dataframe thead th {\n",
       "        text-align: right;\n",
       "    }\n",
       "</style>\n",
       "<table border=\"1\" class=\"dataframe\">\n",
       "  <thead>\n",
       "    <tr style=\"text-align: right;\">\n",
       "      <th></th>\n",
       "      <th>id</th>\n",
       "      <th>keyword</th>\n",
       "      <th>location</th>\n",
       "      <th>text</th>\n",
       "      <th>target</th>\n",
       "    </tr>\n",
       "  </thead>\n",
       "  <tbody>\n",
       "    <tr>\n",
       "      <td>0</td>\n",
       "      <td>1</td>\n",
       "      <td>NaN</td>\n",
       "      <td>NaN</td>\n",
       "      <td>deeds reason earthquake may allah forgive us</td>\n",
       "      <td>1</td>\n",
       "    </tr>\n",
       "    <tr>\n",
       "      <td>1</td>\n",
       "      <td>4</td>\n",
       "      <td>NaN</td>\n",
       "      <td>NaN</td>\n",
       "      <td>forest fire near la ronge sask canada</td>\n",
       "      <td>1</td>\n",
       "    </tr>\n",
       "    <tr>\n",
       "      <td>2</td>\n",
       "      <td>5</td>\n",
       "      <td>NaN</td>\n",
       "      <td>NaN</td>\n",
       "      <td>residents asked shelter place notified officers evacuation shelter place orders expected</td>\n",
       "      <td>1</td>\n",
       "    </tr>\n",
       "    <tr>\n",
       "      <td>3</td>\n",
       "      <td>6</td>\n",
       "      <td>NaN</td>\n",
       "      <td>NaN</td>\n",
       "      <td>13000 people receive wildfires evacuation orders california</td>\n",
       "      <td>1</td>\n",
       "    </tr>\n",
       "    <tr>\n",
       "      <td>4</td>\n",
       "      <td>7</td>\n",
       "      <td>NaN</td>\n",
       "      <td>NaN</td>\n",
       "      <td>got sent photo ruby alaska smoke wildfires pours school</td>\n",
       "      <td>1</td>\n",
       "    </tr>\n",
       "  </tbody>\n",
       "</table>\n",
       "</div>"
      ],
      "text/plain": [
       "   id keyword location  \\\n",
       "0  1   NaN     NaN       \n",
       "1  4   NaN     NaN       \n",
       "2  5   NaN     NaN       \n",
       "3  6   NaN     NaN       \n",
       "4  7   NaN     NaN       \n",
       "\n",
       "                                                                                       text  \\\n",
       "0  deeds reason earthquake may allah forgive us                                               \n",
       "1  forest fire near la ronge sask canada                                                      \n",
       "2  residents asked shelter place notified officers evacuation shelter place orders expected   \n",
       "3  13000 people receive wildfires evacuation orders california                                \n",
       "4  got sent photo ruby alaska smoke wildfires pours school                                    \n",
       "\n",
       "   target  \n",
       "0  1       \n",
       "1  1       \n",
       "2  1       \n",
       "3  1       \n",
       "4  1       "
      ]
     },
     "execution_count": 4,
     "metadata": {},
     "output_type": "execute_result"
    }
   ],
   "source": [
    "#remove stopwords\n",
    "stop = stopwords.words('english')\n",
    "data_clean['text'] = data_clean['text'].apply(lambda x: ' '.join([word for word in x.split() if word not in (stop)]))\n",
    "data_clean.head()"
   ]
  },
  {
   "cell_type": "code",
   "execution_count": 5,
   "metadata": {},
   "outputs": [],
   "source": [
    "# lemmatizer\n",
    "lemmatizer = WordNetLemmatizer()\n",
    "def lemmatizer_(text):\n",
    "    return \" \".join([lemmatizer.lemmatize(word) for word in text.split()])\n",
    "\n",
    "data_clean['text'] = data_clean['text'].apply(lambda x: lemmatizer_(x))"
   ]
  },
  {
   "cell_type": "code",
   "execution_count": 6,
   "metadata": {},
   "outputs": [],
   "source": [
    "X_train, X_test, y_train, y_test = train_test_split(data_clean['text'],data_clean['target'],random_state = 0)"
   ]
  },
  {
   "cell_type": "code",
   "execution_count": 7,
   "metadata": {},
   "outputs": [
    {
     "data": {
      "text/plain": [
       "0    happened terrible car crash                                  \n",
       "1    heard earthquake different city stay safe everyone           \n",
       "2    forest fire spot pond goose fleeing across street cannot save\n",
       "3    apocalypse lighting spokane wildfire                         \n",
       "4    typhoon soudelor kill 28 china taiwan                        \n",
       "Name: text, dtype: object"
      ]
     },
     "execution_count": 7,
     "metadata": {},
     "output_type": "execute_result"
    }
   ],
   "source": [
    "submission_test_clean = testdata.copy()\n",
    "submission_test_clean = clean_text(submission_test_clean, \"text\")\n",
    "submission_test_clean['text'] = submission_test_clean['text'].apply(lambda x: ' '.join([word for word in x.split() if word not in (stop)]))\n",
    "submission_test_clean['text'] = submission_test_clean['text'].apply(lambda x: lemmatizer_(x))\n",
    "submission_test_clean = submission_test_clean['text']\n",
    "submission_test_clean.head()"
   ]
  },
  {
   "cell_type": "markdown",
   "metadata": {},
   "source": [
    "# SGD classifier"
   ]
  },
  {
   "cell_type": "code",
   "execution_count": 8,
   "metadata": {},
   "outputs": [
    {
     "name": "stdout",
     "output_type": "stream",
     "text": [
      "              precision    recall  f1-score   support\n",
      "\n",
      "           0       0.81      0.85      0.83      1107\n",
      "           1       0.78      0.72      0.75       797\n",
      "\n",
      "    accuracy                           0.80      1904\n",
      "   macro avg       0.79      0.79      0.79      1904\n",
      "weighted avg       0.80      0.80      0.80      1904\n",
      "\n"
     ]
    }
   ],
   "source": [
    "# TfidfVectorizer and SGD classifier\n",
    "pipeline_1 = Pipeline([\n",
    "    ('tfidf',  TfidfVectorizer()),\n",
    "    ('classifier', SGDClassifier()),\n",
    "])\n",
    "model1 = pipeline_1.fit(X_train, y_train)\n",
    "\n",
    "\n",
    "y_predict1 = model1.predict(X_test)\n",
    "print(classification_report(y_test, y_predict1))"
   ]
  },
  {
   "cell_type": "code",
   "execution_count": 9,
   "metadata": {},
   "outputs": [],
   "source": [
    "# TfidfVectorizer and SGD classifier\n",
    "submission_test_pred1 = model1.predict(submission_test_clean)\n",
    "\n",
    "id_col = testdata['id']\n",
    "submission_df_1 = pd.DataFrame({\n",
    "                  \"id\": id_col, \n",
    "                  \"target\": submission_test_pred1})\n",
    "#submission_df_1.head()\n",
    "\n",
    "submission_df_1.to_csv('submission_1.csv', index=False)"
   ]
  },
  {
   "cell_type": "code",
   "execution_count": 10,
   "metadata": {},
   "outputs": [
    {
     "name": "stdout",
     "output_type": "stream",
     "text": [
      "              precision    recall  f1-score   support\n",
      "\n",
      "           0       0.79      0.84      0.82      1107\n",
      "           1       0.76      0.69      0.72       797\n",
      "\n",
      "    accuracy                           0.78      1904\n",
      "   macro avg       0.77      0.77      0.77      1904\n",
      "weighted avg       0.78      0.78      0.78      1904\n",
      "\n"
     ]
    }
   ],
   "source": [
    "# CountVectorizer and SGD classifier\n",
    "pipeline_11 = Pipeline([\n",
    "    ('countv',  CountVectorizer()),\n",
    "    ('classifier', SGDClassifier()),\n",
    "])\n",
    "model11 = pipeline_11.fit(X_train, y_train)\n",
    "\n",
    "\n",
    "y_predict11 = model11.predict(X_test)\n",
    "print(classification_report(y_test, y_predict11))"
   ]
  },
  {
   "cell_type": "code",
   "execution_count": 11,
   "metadata": {},
   "outputs": [],
   "source": [
    "# CountVectorizer and SGD classifier\n",
    "submission_test_pred11 = model11.predict(submission_test_clean)\n",
    "\n",
    "id_col = testdata['id']\n",
    "submission_df_11 = pd.DataFrame({\n",
    "                  \"id\": id_col, \n",
    "                  \"target\": submission_test_pred11})\n",
    "submission_df_11.head()\n",
    "\n",
    "# CountVectorizer and SGD classifier\n",
    "submission_df_11.to_csv('submission_11.csv', index=False)"
   ]
  },
  {
   "cell_type": "markdown",
   "metadata": {},
   "source": [
    "# Naive Bayes classifier"
   ]
  },
  {
   "cell_type": "code",
   "execution_count": 12,
   "metadata": {},
   "outputs": [
    {
     "name": "stdout",
     "output_type": "stream",
     "text": [
      "              precision    recall  f1-score   support\n",
      "\n",
      "           0       0.78      0.90      0.84      1107\n",
      "           1       0.82      0.65      0.73       797\n",
      "\n",
      "    accuracy                           0.79      1904\n",
      "   macro avg       0.80      0.77      0.78      1904\n",
      "weighted avg       0.80      0.79      0.79      1904\n",
      "\n"
     ]
    }
   ],
   "source": [
    "# NB and TFIDF\n",
    "pipeline_2 = Pipeline([\n",
    "    \n",
    "    ('tfidf', TfidfVectorizer()),  \n",
    "    ('classifier', MultinomialNB()),  # train on TF-IDF vectors w/ Naive Bayes classifier\n",
    "])\n",
    "model2 = pipeline_2.fit(X_train, y_train)\n",
    "\n",
    "y_predict2 = model2.predict(X_test)\n",
    "print(classification_report(y_test, y_predict2))"
   ]
  },
  {
   "cell_type": "code",
   "execution_count": 13,
   "metadata": {},
   "outputs": [],
   "source": [
    "# NB and TFIDF\n",
    "submission_test_pred2 = model2.predict(submission_test_clean)\n",
    "\n",
    "id_col = testdata['id']\n",
    "submission_df_2 = pd.DataFrame({\n",
    "                  \"id\": id_col, \n",
    "                  \"target\": submission_test_pred2})\n",
    "#submission_df_2.head()\n",
    "\n",
    "submission_df_2.to_csv('submission_2.csv', index=False)"
   ]
  },
  {
   "cell_type": "code",
   "execution_count": 14,
   "metadata": {},
   "outputs": [
    {
     "name": "stdout",
     "output_type": "stream",
     "text": [
      "              precision    recall  f1-score   support\n",
      "\n",
      "           0       0.81      0.86      0.83      1107\n",
      "           1       0.78      0.71      0.75       797\n",
      "\n",
      "    accuracy                           0.80      1904\n",
      "   macro avg       0.79      0.79      0.79      1904\n",
      "weighted avg       0.80      0.80      0.80      1904\n",
      "\n"
     ]
    }
   ],
   "source": [
    "# NB and COUNT\n",
    "pipeline_22 = Pipeline([\n",
    "    \n",
    "    ('countv', CountVectorizer()),  \n",
    "    ('classifier', MultinomialNB()),  # train on TF-IDF vectors w/ Naive Bayes classifier\n",
    "])\n",
    "model22 = pipeline_22.fit(X_train, y_train)\n",
    "\n",
    "y_predict22 = model22.predict(X_test)\n",
    "print(classification_report(y_test, y_predict22))"
   ]
  },
  {
   "cell_type": "code",
   "execution_count": 15,
   "metadata": {},
   "outputs": [],
   "source": [
    "# NB and COUNT\n",
    "submission_test_pred22 = model22.predict(submission_test_clean)\n",
    "\n",
    "id_col = testdata['id']\n",
    "submission_df_22 = pd.DataFrame({\n",
    "                  \"id\": id_col, \n",
    "                  \"target\": submission_test_pred22})\n",
    "#submission_df_2.head()\n",
    "\n",
    "submission_df_22.to_csv('submission_22.csv', index=False)"
   ]
  },
  {
   "cell_type": "markdown",
   "metadata": {},
   "source": [
    "# Logistic Regression classifier"
   ]
  },
  {
   "cell_type": "code",
   "execution_count": 16,
   "metadata": {},
   "outputs": [
    {
     "name": "stdout",
     "output_type": "stream",
     "text": [
      "              precision    recall  f1-score   support\n",
      "\n",
      "           0       0.79      0.90      0.84      1107\n",
      "           1       0.83      0.67      0.74       797\n",
      "\n",
      "    accuracy                           0.80      1904\n",
      "   macro avg       0.81      0.79      0.79      1904\n",
      "weighted avg       0.81      0.80      0.80      1904\n",
      "\n"
     ]
    }
   ],
   "source": [
    "#Logistic Regression and TFIDF\n",
    "pipeline_3 = Pipeline([\n",
    "    ('tfidf', TfidfVectorizer()),  # integer counts to weighted TF-IDF scores\n",
    "    ('classifier', LogisticRegression()),  # train on TF-IDF vectors w/ LogisticRegression classifier\n",
    "])\n",
    "model3 = pipeline_3.fit(X_train, y_train)\n",
    "\n",
    "\n",
    "y_predict3 = model3.predict(X_test)\n",
    "print(classification_report(y_test, y_predict3))"
   ]
  },
  {
   "cell_type": "code",
   "execution_count": 17,
   "metadata": {},
   "outputs": [],
   "source": [
    "#Logistic Regression and TFIDF\n",
    "submission_test_pred3 = model3.predict(submission_test_clean)\n",
    "\n",
    "id_col = testdata['id']\n",
    "submission_df_3 = pd.DataFrame({\n",
    "                  \"id\": id_col, \n",
    "                  \"target\": submission_test_pred3})\n",
    "#submission_df_3.head()\n",
    "\n",
    "submission_df_3.to_csv('submission_3.csv', index=False)"
   ]
  },
  {
   "cell_type": "code",
   "execution_count": 18,
   "metadata": {},
   "outputs": [
    {
     "name": "stdout",
     "output_type": "stream",
     "text": [
      "              precision    recall  f1-score   support\n",
      "\n",
      "           0       0.80      0.89      0.84      1107\n",
      "           1       0.82      0.69      0.75       797\n",
      "\n",
      "    accuracy                           0.81      1904\n",
      "   macro avg       0.81      0.79      0.80      1904\n",
      "weighted avg       0.81      0.81      0.80      1904\n",
      "\n"
     ]
    }
   ],
   "source": [
    "#Logistic Regression and CountV\n",
    "pipeline_33 = Pipeline([\n",
    "    ('tfidf', CountVectorizer()),  # integer counts to weighted TF-IDF scores\n",
    "    ('classifier', LogisticRegression()),  # train on TF-IDF vectors w/ LogisticRegression classifier\n",
    "])\n",
    "model33 = pipeline_33.fit(X_train, y_train)\n",
    "\n",
    "y_predict33 = model33.predict(X_test)\n",
    "print(classification_report(y_test, y_predict33))"
   ]
  },
  {
   "cell_type": "code",
   "execution_count": 24,
   "metadata": {},
   "outputs": [],
   "source": [
    "#Logistic Regression and CountV\n",
    "submission_test_pred33 = model33.predict(submission_test_clean)\n",
    "\n",
    "id_col = testdata['id']\n",
    "submission_df_33 = pd.DataFrame({\n",
    "                  \"id\": id_col, \n",
    "                  \"target\": submission_test_pred33})\n",
    "#submission_df_33.head()\n",
    "\n",
    "submission_df_33.to_csv('submission_33.csv', index=False)"
   ]
  },
  {
   "cell_type": "markdown",
   "metadata": {},
   "source": [
    "# XGB classifier"
   ]
  },
  {
   "cell_type": "code",
   "execution_count": 20,
   "metadata": {},
   "outputs": [
    {
     "name": "stdout",
     "output_type": "stream",
     "text": [
      "              precision    recall  f1-score   support\n",
      "\n",
      "           0       0.76      0.92      0.83      1107\n",
      "           1       0.84      0.60      0.70       797\n",
      "\n",
      "    accuracy                           0.79      1904\n",
      "   macro avg       0.80      0.76      0.77      1904\n",
      "weighted avg       0.80      0.79      0.78      1904\n",
      "\n"
     ]
    }
   ],
   "source": [
    "#XGB classifier and TFIDF\n",
    "pipeline_4 = Pipeline([\n",
    "    ('tfidf', TfidfVectorizer()),  # integer counts to weighted TF-IDF scores\n",
    "    ('classifier', XGBClassifier()),  # train on TF-IDF vectors w/ XGB classifier\n",
    "])\n",
    "model4 = pipeline_4.fit(X_train, y_train)\n",
    "\n",
    "y_predict4 = model4.predict(X_test)\n",
    "print(classification_report(y_test, y_predict4))"
   ]
  },
  {
   "cell_type": "code",
   "execution_count": 21,
   "metadata": {},
   "outputs": [],
   "source": [
    "#XGB classifier and TFIDF\n",
    "submission_test_pred4 = model4.predict(submission_test_clean)\n",
    "\n",
    "id_col = testdata['id']\n",
    "submission_df_4 = pd.DataFrame({\n",
    "                  \"id\": id_col, \n",
    "                  \"target\": submission_test_pred4})\n",
    "#submission_df_4.head()\n",
    "\n",
    "submission_df_4.to_csv('submission_4.csv', index=False)"
   ]
  },
  {
   "cell_type": "code",
   "execution_count": 22,
   "metadata": {},
   "outputs": [
    {
     "name": "stdout",
     "output_type": "stream",
     "text": [
      "              precision    recall  f1-score   support\n",
      "\n",
      "           0       0.78      0.92      0.84      1107\n",
      "           1       0.84      0.63      0.72       797\n",
      "\n",
      "    accuracy                           0.80      1904\n",
      "   macro avg       0.81      0.77      0.78      1904\n",
      "weighted avg       0.80      0.80      0.79      1904\n",
      "\n"
     ]
    }
   ],
   "source": [
    "#XGB classifier and CountV\n",
    "pipeline_44 = Pipeline([\n",
    "    ('countv', CountVectorizer()),  # integer counts to weighted TF-IDF scores\n",
    "    ('classifier', XGBClassifier()),  # train on TF-IDF vectors w/ XGB classifier\n",
    "])\n",
    "model44 = pipeline_44.fit(X_train, y_train)\n",
    "\n",
    "y_predict44 = model44.predict(X_test)\n",
    "print(classification_report(y_test, y_predict44))"
   ]
  },
  {
   "cell_type": "code",
   "execution_count": 23,
   "metadata": {},
   "outputs": [],
   "source": [
    "#XGB classifier and CountV\n",
    "submission_test_pred44 = model44.predict(submission_test_clean)\n",
    "\n",
    "id_col = testdata['id']\n",
    "submission_df_44 = pd.DataFrame({\n",
    "                  \"id\": id_col, \n",
    "                  \"target\": submission_test_pred44})\n",
    "#submission_df_44.head()\n",
    "\n",
    "submission_df_44.to_csv('submission_44.csv', index=False)"
   ]
  }
 ],
 "metadata": {
  "kernelspec": {
   "display_name": "Python 3",
   "language": "python",
   "name": "python3"
  },
  "language_info": {
   "codemirror_mode": {
    "name": "ipython",
    "version": 3
   },
   "file_extension": ".py",
   "mimetype": "text/x-python",
   "name": "python",
   "nbconvert_exporter": "python",
   "pygments_lexer": "ipython3",
   "version": "3.7.4"
  }
 },
 "nbformat": 4,
 "nbformat_minor": 2
}
